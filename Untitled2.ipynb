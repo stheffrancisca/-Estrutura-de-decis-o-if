{
  "nbformat": 4,
  "nbformat_minor": 0,
  "metadata": {
    "colab": {
      "provenance": [],
      "toc_visible": true,
      "authorship_tag": "ABX9TyPb1XhcxoXkxHtz8o4X/LWf",
      "include_colab_link": true
    },
    "kernelspec": {
      "name": "python3",
      "display_name": "Python 3"
    },
    "language_info": {
      "name": "python"
    }
  },
  "cells": [
    {
      "cell_type": "markdown",
      "metadata": {
        "id": "view-in-github",
        "colab_type": "text"
      },
      "source": [
        "<a href=\"https://colab.research.google.com/github/stheffrancisca/-Estrutura-de-decis-o-if/blob/main/Untitled2.ipynb\" target=\"_parent\"><img src=\"https://colab.research.google.com/assets/colab-badge.svg\" alt=\"Open In Colab\"/></a>"
      ]
    },
    {
      "source": [
        "def encontar_mininmo(lista):\n",
        "  minimo = lista[0] # Initialize minimo here\n",
        "  for elem in lista:\n",
        "    if(elem < minimo): # Reference minimo consistently without accent mark\n",
        "      minimo = elem\n",
        "  return minimo\n",
        "\n",
        "Lista_teste = [2,10,3,1,4,5]\n",
        "menor = encontar_mininmo(Lista_teste)\n",
        "print(\"O menor elemento da lista é: [{}])\".format(menor))"
      ],
      "cell_type": "code",
      "metadata": {
        "colab": {
          "base_uri": "https://localhost:8080/"
        },
        "id": "_BtMWh5rPtZ2",
        "outputId": "6c76746e-a0c2-4f49-f6b3-cbe4b996abc1"
      },
      "execution_count": 9,
      "outputs": [
        {
          "output_type": "stream",
          "name": "stdout",
          "text": [
            "O menor elemento da lista é: [1])\n"
          ]
        }
      ]
    },
    {
      "cell_type": "code",
      "source": [],
      "metadata": {
        "id": "Laz9Lad5N_Zz"
      },
      "execution_count": null,
      "outputs": []
    },
    {
      "cell_type": "markdown",
      "source": [
        "**Exercício - 01**\n",
        "\n",
        "Implementar uma solução em Python que retorne a soma de todos os elementos pares de uma lista."
      ],
      "metadata": {
        "id": "61eKki6bQNXu"
      }
    },
    {
      "cell_type": "code",
      "source": [],
      "metadata": {
        "id": "QpHJ2vTHQdJe"
      },
      "execution_count": null,
      "outputs": []
    },
    {
      "cell_type": "markdown",
      "source": [
        "**Solução do exercício - 01**"
      ],
      "metadata": {
        "id": "rRHiNi7RQf1m"
      }
    },
    {
      "source": [
        "def ehPar(n):\n",
        "  r = (n%2==0)\n",
        "  return r\n",
        "\n",
        "def soma_par(lst):\n",
        "  soma=0\n",
        "  for num in lst:\n",
        "    if(ehPar(num)):\n",
        "      soma=soma+num\n",
        "  return soma\n",
        "\n",
        "\n",
        "Lista = [10, 2, 5, 7, 6, 3]\n",
        "soma=soma_par(Lista)\n",
        "print(f'O somatório dos elementos pares da lista è: [{soma}]') # Changed 'Soma' to 'soma'"
      ],
      "cell_type": "code",
      "metadata": {
        "colab": {
          "base_uri": "https://localhost:8080/"
        },
        "id": "KwnP9iOPScnW",
        "outputId": "aca2de92-c883-4a9a-af3b-45698e47d844"
      },
      "execution_count": 13,
      "outputs": [
        {
          "output_type": "stream",
          "name": "stdout",
          "text": [
            "O somatório dos elementos pares da lista è: [18]\n"
          ]
        }
      ]
    },
    {
      "cell_type": "code",
      "source": [],
      "metadata": {
        "id": "1dw4971mRMMu"
      },
      "execution_count": null,
      "outputs": []
    },
    {
      "cell_type": "markdown",
      "source": [
        "** Exercício - 02 **\n",
        "\n",
        "Implementar uma solução em Python que calcule o fatorial de um número."
      ],
      "metadata": {
        "id": "oTUAeNwzTRof"
      }
    },
    {
      "cell_type": "markdown",
      "source": [
        "** Solução do exercício - 02 **"
      ],
      "metadata": {
        "id": "LkEVPXNwTwTQ"
      }
    },
    {
      "source": [
        "#estratégia 01\n",
        "def fatorial(n):\n",
        "  f=1\n",
        "  for i in range(1,n+1):\n",
        "    f=f*i\n",
        "  return f\n",
        "\n",
        "#estratégia 02\n",
        "def fatorial_recursivo(n):\n",
        "  if(n==1):\n",
        "    return 1\n",
        "  else:\n",
        "    return n*fatorial_recursivo(n-1)\n",
        "\n",
        "numero = 5\n",
        "print(f'O fatorial de {numero} é: {fatorial_recursivo(numero)}') # Call fatorial_recursivo\n",
        "print(f'O fatorial de {numero} é: {fatorial(numero)}') # Call the function fatorial instead of fatorial_interativo"
      ],
      "cell_type": "code",
      "metadata": {
        "colab": {
          "base_uri": "https://localhost:8080/"
        },
        "id": "qD3Qg98hU9Gq",
        "outputId": "f59c9e1f-71d4-4674-e8a1-685f428bc457"
      },
      "execution_count": 18,
      "outputs": [
        {
          "output_type": "stream",
          "name": "stdout",
          "text": [
            "O fatorial de 5 é: 120\n",
            "O fatorial de 5 é: 120\n"
          ]
        }
      ]
    },
    {
      "cell_type": "markdown",
      "source": [
        "**Ecercicío - 03**\n",
        "\n",
        "Implementar uma solução em python que determine se um número é ou não primo."
      ],
      "metadata": {
        "id": "zZw7ATj7WCHA"
      }
    },
    {
      "cell_type": "markdown",
      "source": [
        "**Solução exercicío 03**"
      ],
      "metadata": {
        "id": "Pgs26uV6WVhJ"
      }
    },
    {
      "cell_type": "code",
      "source": [
        "def eh_primo(n):\n",
        "  if(n<2):\n",
        "    return False\n",
        "  i=n//2\n",
        "  while(i>1):\n",
        "    if(n%i==0):\n",
        "      return False\n",
        "    i=i-1\n",
        "  return True\n",
        "\n",
        "\n",
        "def imprimir_resultado(numero, resultado):\n",
        "  mensagem= f'O número1{numero} Não é primo'\n",
        "  if(resultado):\n",
        "    mensagem= f'O número{numero} é primo'\n",
        "    return mensagem\n",
        "\n",
        "\n",
        "numero = 7\n",
        "resultado=eh_primo(numero)\n",
        "msg=imprimir_resultado(numero, resultado)\n",
        "print(msg)"
      ],
      "metadata": {
        "colab": {
          "base_uri": "https://localhost:8080/"
        },
        "id": "RgW6gTHtWy9s",
        "outputId": "66c5e479-66f2-4766-c5df-26b4bdde8c73"
      },
      "execution_count": 20,
      "outputs": [
        {
          "output_type": "stream",
          "name": "stdout",
          "text": [
            "O número7 é primo\n"
          ]
        }
      ]
    },
    {
      "cell_type": "markdown",
      "source": [
        "**O que acontecerá quando o usuário tentar executar esse programa?\n",
        "\n",
        "\n",
        "\n",
        "\n",
        "\n",
        "**"
      ],
      "metadata": {
        "id": "4cX78FVGhUmo"
      }
    },
    {
      "cell_type": "code",
      "source": [
        "def func1(x):\n",
        "     x = 10\n",
        "     print(x)\n",
        "\n",
        "\n",
        "x = 0\n",
        "print(x)\n",
        "func1(x)\n",
        "print(x)"
      ],
      "metadata": {
        "colab": {
          "base_uri": "https://localhost:8080/"
        },
        "id": "6ToXaBhjhCrV",
        "outputId": "84db126e-6a66-48cf-8440-e2e11b479890"
      },
      "execution_count": 21,
      "outputs": [
        {
          "output_type": "stream",
          "name": "stdout",
          "text": [
            "0\n",
            "10\n",
            "0\n"
          ]
        }
      ]
    }
  ]
}