{
  "nbformat": 4,
  "nbformat_minor": 0,
  "metadata": {
    "colab": {
      "provenance": [],
      "authorship_tag": "ABX9TyM3rE7Vl/09seEwgnCUpaml",
      "include_colab_link": true
    },
    "kernelspec": {
      "name": "python3",
      "display_name": "Python 3"
    },
    "language_info": {
      "name": "python"
    }
  },
  "cells": [
    {
      "cell_type": "markdown",
      "metadata": {
        "id": "view-in-github",
        "colab_type": "text"
      },
      "source": [
        "<a href=\"https://colab.research.google.com/github/stheffrancisca/-Estrutura-de-decis-o-if/blob/main/Untitled17.ipynb\" target=\"_parent\"><img src=\"https://colab.research.google.com/assets/colab-badge.svg\" alt=\"Open In Colab\"/></a>"
      ]
    },
    {
      "cell_type": "code",
      "execution_count": 2,
      "metadata": {
        "id": "Onux-Qkp-dum"
      },
      "outputs": [],
      "source": [
        "import pandas as pd\n",
        "import matplotlib.pyplot as plt\n",
        "import seaborn as sns\n",
        "\n",
        "class AnalisePontosIA:\n",
        "    def __init__(self, arquivo):\n",
        "        \"\"\"Carrega a base de dados e exibe informações iniciais.\"\"\"\n",
        "        self.df = pd.read_csv(arquivo)\n",
        "        print(\"Base de dados carregada com sucesso!\\n\")\n",
        "        print(self.df.info())\n",
        "        print(\"\\nResumo estatístico:\\n\", self.df.describe())\n",
        "\n",
        "    def visualizar_distribuicao(self, coluna):\n",
        "        \"\"\"Gera um gráfico da distribuição dos pontos concedidos.\"\"\"\n",
        "        if coluna in self.df.columns:\n",
        "            plt.figure(figsize=(8, 5))\n",
        "            sns.histplot(self.df[coluna], bins=20, kde=True)\n",
        "            plt.title(f'Distribuição da Coluna {coluna}')\n",
        "            plt.show()\n",
        "        else:\n",
        "            print(\"Coluna não encontrada na base de dados.\")\n",
        "\n",
        "    def top_beneficiados(self, coluna_usuario, coluna_pontos, top_n=10):\n",
        "        \"\"\"Exibe os usuários que mais receberam pontos.\"\"\"\n",
        "        if coluna_usuario in self.df.columns and coluna_pontos in self.df.columns:\n",
        "            top_users = self.df.groupby(coluna_usuario)[coluna_pontos].sum().nlargest(top_n)\n",
        "            print(\"Top\", top_n, \"usuários com mais pontos:\\n\", top_users)\n",
        "        else:\n",
        "            print(\"Colunas não encontradas na base de dados.\")\n",
        "\n",
        "    def detectar_anomalias(self, coluna_pontos, limite=2.5):\n",
        "        \"\"\"Detecta concessões de pontos fora do padrão (outliers).\"\"\"\n",
        "        if coluna_pontos in self.df.columns:\n",
        "            media = self.df[coluna_pontos].mean()\n",
        "            desvio = self.df[coluna_pontos].std()\n",
        "            outliers = self.df[(self.df[coluna_pontos] > media + limite * desvio) | (self.df[coluna_pontos] < media - limite * desvio)]\n",
        "            print(\"Possíveis anomalias na concessão de pontos:\")\n",
        "            print(outliers)\n",
        "        else:\n",
        "            print(\"Coluna não encontrada na base de dados.\")\n",
        "\n",
        "# Exemplo de uso:\n",
        "# ia = AnalisePontosIA('dados_pontos.csv')\n",
        "# ia.visualizar_distribuicao('pontos')\n",
        "# ia.top_beneficiados('usuario', 'pontos')\n",
        "# ia.detectar_anomalias('pontos')\n"
      ]
    }
  ]
}