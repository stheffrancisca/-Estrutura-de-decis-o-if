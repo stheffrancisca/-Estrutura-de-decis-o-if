{
  "nbformat": 4,
  "nbformat_minor": 0,
  "metadata": {
    "colab": {
      "provenance": [],
      "toc_visible": true,
      "authorship_tag": "ABX9TyO/KigjRYB5TPRpTHv9ysgK",
      "include_colab_link": true
    },
    "kernelspec": {
      "name": "python3",
      "display_name": "Python 3"
    },
    "language_info": {
      "name": "python"
    }
  },
  "cells": [
    {
      "cell_type": "markdown",
      "metadata": {
        "id": "view-in-github",
        "colab_type": "text"
      },
      "source": [
        "<a href=\"https://colab.research.google.com/github/stheffrancisca/-Estrutura-de-decis-o-if/blob/main/Untitled1.ipynb\" target=\"_parent\"><img src=\"https://colab.research.google.com/assets/colab-badge.svg\" alt=\"Open In Colab\"/></a>"
      ]
    },
    {
      "cell_type": "code",
      "execution_count": null,
      "metadata": {
        "id": "G2UUYsyrZxSm"
      },
      "outputs": [],
      "source": []
    },
    {
      "cell_type": "markdown",
      "source": [
        "# **Estruturas de decisão e repetição em Python**\n",
        "\n",
        "As estruturas de controle permitem selecionar quais partes do código (chamadas de estruturas de decisão) serão executadas e repetir blocos de instruções com base em algum critério, como uma variável de controle ou a validade de alguma condição (denominadas estruturas de repetição)"
      ],
      "metadata": {
        "id": "U7xoDX3UbRIt"
      }
    },
    {
      "cell_type": "code",
      "source": [],
      "metadata": {
        "id": "Bxs2aUOxcrn5"
      },
      "execution_count": null,
      "outputs": []
    },
    {
      "cell_type": "code",
      "source": [],
      "metadata": {
        "id": "fygB5DQ-b50w"
      },
      "execution_count": null,
      "outputs": []
    },
    {
      "cell_type": "markdown",
      "source": [
        "**Exercício 01**\n",
        "\n",
        "Implementar um solução em Python que verifique se um número é par ou ímpar.\n",
        "\n"
      ],
      "metadata": {
        "id": "PKlTqGdVb--V"
      }
    },
    {
      "cell_type": "code",
      "source": [
        "#Solução do Exercício 01\n",
        "\n",
        "numero = 46\n",
        "\n",
        "if(numero % 2 == 0):\n",
        "  situacao = \"par\"\n",
        "else:\n",
        "  situacao = \"impar\"\n",
        "\n",
        "print(situacao)"
      ],
      "metadata": {
        "colab": {
          "base_uri": "https://localhost:8080/"
        },
        "id": "W0tSdVGdcuPy",
        "outputId": "214b32b0-43a4-4fc4-c7f4-ce8bf6f2ce6a"
      },
      "execution_count": null,
      "outputs": [
        {
          "output_type": "stream",
          "name": "stdout",
          "text": [
            "par\n"
          ]
        }
      ]
    },
    {
      "cell_type": "markdown",
      "source": [
        "**Exercício 02**\n",
        "\n",
        "Implementar uma solução em Python que resolva a seguinte questão:\n",
        "\n",
        "- Se nota for maior ou igual a 7, o estudante foi aprovado.\n",
        "- Se a nota for menor que 7 e maior ou igual a 5, o estudante está em recuperação.\n",
        "- Se a nota for menor que 5, o estudante está reprovado."
      ],
      "metadata": {
        "id": "WcPD6UlldLrK"
      }
    },
    {
      "cell_type": "code",
      "source": [],
      "metadata": {
        "id": "vrIvZKa8eOjb"
      },
      "execution_count": null,
      "outputs": []
    },
    {
      "cell_type": "code",
      "source": [
        "#Solução do Exercício 02\n",
        "\n",
        "Media = 4\n",
        "\n",
        "if(Media >= 7.0):\n",
        "  situacao = \"Aprovado\"\n",
        "elif(Media >= 5.0):\n",
        "  situacao = \"Recuperação\"\n",
        "else:\n",
        "  situacao = \"Reprovado\"\n",
        "\n",
        "print(situacao)"
      ],
      "metadata": {
        "colab": {
          "base_uri": "https://localhost:8080/"
        },
        "id": "ZoRktJpHeZGC",
        "outputId": "b40b57ea-a874-4f5c-f15f-e71cf1e6350d"
      },
      "execution_count": null,
      "outputs": [
        {
          "output_type": "stream",
          "name": "stdout",
          "text": [
            "Reprovado\n"
          ]
        }
      ]
    },
    {
      "cell_type": "markdown",
      "source": [
        "**Exercício 03**\n",
        "\n",
        "Implementar um solução em Python que resolva a seguinte questão:\n",
        "\n",
        "-Calcular o valor de uma compra, sendo que o preço unitário é R$10,00.\n",
        "-Se for feita uma compra de até 10 unidades, não há descontos.\n",
        "-Para compras entre 11 e 20 unidades é dado um desconto de 10%.\n",
        "- Acima de 20 unidades, é dado um desconto de 20%."
      ],
      "metadata": {
        "id": "j4MXYQesfjMW"
      }
    },
    {
      "cell_type": "code",
      "source": [],
      "metadata": {
        "id": "dFpVuqRtgOxx"
      },
      "execution_count": null,
      "outputs": []
    },
    {
      "cell_type": "code",
      "source": [
        "#Solução do Exercício 03\n",
        "\n",
        "preco_unitario = 10.0\n",
        "DESCONTO10 = 0.1\n",
        "DESCONTO20 = 0.2\n",
        "quantidade = eval(input(\"Digite a quantidade que vai comprar: \"))\n",
        "\n",
        "if(quantidade <= 10):#menor ou igual a 10\n",
        "   valor_final = preco_unitario * quantidade\n",
        "elif(quantidade <= 20): #Maior que 10 e menor ou igual a 20\n",
        "  valor_final = preco_unitario * quantidade * (1 - DESCONTO10)\n",
        "else: #maior que 20\n",
        "  valor_final = preco_unitario * quantidade * (1 - DESCONTO20)\n",
        "\n",
        "print(f'O valor final da compra é: {valor_final}')"
      ],
      "metadata": {
        "colab": {
          "base_uri": "https://localhost:8080/"
        },
        "id": "bryRxVDRgUEO",
        "outputId": "279aa230-1682-4a4d-a524-8182fee885e8"
      },
      "execution_count": null,
      "outputs": [
        {
          "output_type": "stream",
          "name": "stdout",
          "text": [
            "Digite a quantidade que vai comprar: 30\n",
            "O valor final da compra é: 240.0\n"
          ]
        }
      ]
    },
    {
      "cell_type": "markdown",
      "source": [
        "** Exercício 04 **\n",
        "\n",
        "Implementar uma solução em Python que some todos os números pares de uma lista.\n",
        "\n",
        "Por exemplo, se a lista for [10,2,5,7,6,3], o resultado deve se igual a 18."
      ],
      "metadata": {
        "id": "fcELfn4gjgWO"
      }
    },
    {
      "cell_type": "code",
      "source": [
        "#Solução do Exercício 04 (Estratégia 01)\n",
        "\n"
      ],
      "metadata": {
        "id": "y67I-_1hkVe3"
      },
      "execution_count": null,
      "outputs": []
    },
    {
      "cell_type": "code",
      "source": [
        "#Estrategia 01\n",
        "\n",
        "lista = [10,2,5,7,6,3]\n",
        "n=len(lista)\n",
        "soma = 0\n",
        "\n",
        "for i in range(n):\n",
        "  if(lista[i] % 2 == 0):\n",
        "    soma =soma+lista[i]\n",
        "\n",
        "print(f'o somatório dos elementos pares de lista é: {soma}')"
      ],
      "metadata": {
        "colab": {
          "base_uri": "https://localhost:8080/"
        },
        "id": "k_xK8jB2kYTv",
        "outputId": "28617271-5e8d-47fb-e2ee-51dc89485259"
      },
      "execution_count": null,
      "outputs": [
        {
          "output_type": "stream",
          "name": "stdout",
          "text": [
            "o somatório dos elementos pares de lista é: 18\n"
          ]
        }
      ]
    },
    {
      "cell_type": "code",
      "source": [
        "#estrategia 02\n",
        "\n",
        "lista = [10,2,5,7,6,3]\n",
        "soma = 0\n",
        "\n",
        "for num in lista:\n",
        "  if(num % 2 == 0):\n",
        "    soma = soma + num\n",
        "\n",
        "print(f'o somatório dos elementos pares de lista é: {soma}')"
      ],
      "metadata": {
        "colab": {
          "base_uri": "https://localhost:8080/"
        },
        "id": "7_q4XpUcmLAt",
        "outputId": "8517b60c-28c0-4f75-ea65-e9f832634bc0"
      },
      "execution_count": null,
      "outputs": [
        {
          "output_type": "stream",
          "name": "stdout",
          "text": [
            "o somatório dos elementos pares de lista é: 18\n"
          ]
        }
      ]
    },
    {
      "cell_type": "markdown",
      "source": [],
      "metadata": {
        "id": "nv42d6Ibctwp"
      }
    },
    {
      "cell_type": "code",
      "source": [],
      "metadata": {
        "id": "_33ZKrvnoYqS"
      },
      "execution_count": null,
      "outputs": []
    },
    {
      "cell_type": "markdown",
      "source": [
        "Exercício 05\n",
        "\n",
        "\n",
        "Verifique se a criança precisa tomar vacima.\n",
        "- Criança menor que 5 tomar a vacima\n",
        "-Criança igual a 5 a vacina estara disponível em breve\n",
        "-Criança maior que 5 a vacina ocorrerar em breve."
      ],
      "metadata": {
        "id": "nrtlffOEobmR"
      }
    },
    {
      "cell_type": "code",
      "source": [
        "#Solução do execício 05\n",
        "\n",
        "idade = eval(input('Informe a idade da criança: \\n'))\n",
        "if idade < 5:\n",
        "    print('A criança deve ser vacinada contra a gripe.')\n",
        "    print('Procure o posto de saúde mais próximo.')\n",
        "elif idade == 5:\n",
        "    print('A vacina estará disponível em breve.')\n",
        "    print('Aguarde as próximas informações.')\n",
        "else:\n",
        "    print('A vacinação só ocorrerá daqui a 3 meses.')\n",
        "    print('Informe-se novamente neste prazo.')\n",
        "print('Cuide da saúde sempre. Até a próxima.')\n",
        "\n"
      ],
      "metadata": {
        "colab": {
          "base_uri": "https://localhost:8080/"
        },
        "id": "QEbFgZQ7o4bC",
        "outputId": "83a824e6-1c5c-435f-dbd7-ee6f6f71c818"
      },
      "execution_count": null,
      "outputs": [
        {
          "output_type": "stream",
          "name": "stdout",
          "text": [
            "Informe a idade da criança: \n",
            "8\n",
            "A vacinação só ocorrerá daqui a 3 meses.\n",
            "Informe-se novamente neste prazo.\n",
            "Cuide da saúde sempre. Até a próxima.\n"
          ]
        }
      ]
    },
    {
      "cell_type": "code",
      "source": [],
      "metadata": {
        "id": "A-HKof0iMLTu"
      },
      "execution_count": null,
      "outputs": []
    }
  ]
}